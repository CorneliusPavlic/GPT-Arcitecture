{
 "cells": [
  {
   "cell_type": "code",
   "execution_count": 2,
   "metadata": {},
   "outputs": [
    {
     "name": "stdout",
     "output_type": "stream",
     "text": [
      "Looking in indexes: https://download.pytorch.org/whl/cu118\n",
      "Requirement already satisfied: torch in c:\\users\\corne\\anaconda3\\lib\\site-packages (2.3.1+cu118)\n",
      "Requirement already satisfied: torchvision in c:\\users\\corne\\anaconda3\\lib\\site-packages (0.18.1)\n",
      "Requirement already satisfied: torchaudio in c:\\users\\corne\\anaconda3\\lib\\site-packages (2.3.1+cu118)\n",
      "Requirement already satisfied: filelock in c:\\users\\corne\\anaconda3\\lib\\site-packages (from torch) (3.13.1)\n",
      "Requirement already satisfied: typing-extensions>=4.8.0 in c:\\users\\corne\\anaconda3\\lib\\site-packages (from torch) (4.9.0)\n",
      "Requirement already satisfied: sympy in c:\\users\\corne\\anaconda3\\lib\\site-packages (from torch) (1.12)\n",
      "Requirement already satisfied: networkx in c:\\users\\corne\\anaconda3\\lib\\site-packages (from torch) (3.1)\n",
      "Requirement already satisfied: jinja2 in c:\\users\\corne\\anaconda3\\lib\\site-packages (from torch) (3.1.3)\n",
      "Requirement already satisfied: fsspec in c:\\users\\corne\\anaconda3\\lib\\site-packages (from torch) (2023.10.0)\n",
      "Requirement already satisfied: mkl<=2021.4.0,>=2021.1.1 in c:\\users\\corne\\anaconda3\\lib\\site-packages (from torch) (2021.4.0)\n",
      "Requirement already satisfied: numpy in c:\\users\\corne\\anaconda3\\lib\\site-packages (from torchvision) (1.26.4)\n",
      "Requirement already satisfied: pillow!=8.3.*,>=5.3.0 in c:\\users\\corne\\anaconda3\\lib\\site-packages (from torchvision) (10.2.0)\n",
      "Requirement already satisfied: intel-openmp==2021.* in c:\\users\\corne\\anaconda3\\lib\\site-packages (from mkl<=2021.4.0,>=2021.1.1->torch) (2021.4.0)\n",
      "Requirement already satisfied: tbb==2021.* in c:\\users\\corne\\anaconda3\\lib\\site-packages (from mkl<=2021.4.0,>=2021.1.1->torch) (2021.12.0)\n",
      "Requirement already satisfied: MarkupSafe>=2.0 in c:\\users\\corne\\anaconda3\\lib\\site-packages (from jinja2->torch) (2.1.3)\n",
      "Requirement already satisfied: mpmath>=0.19 in c:\\users\\corne\\anaconda3\\lib\\site-packages (from sympy->torch) (1.3.0)\n"
     ]
    }
   ],
   "source": [
    "!pip3 install torch torchvision torchaudio --index-url https://download.pytorch.org/whl/cu118"
   ]
  },
  {
   "cell_type": "code",
   "execution_count": 10,
   "metadata": {},
   "outputs": [],
   "source": [
    "with open('asv.txt', 'r', encoding='utf-8') as f:\n",
    "    text = f.read()"
   ]
  },
  {
   "cell_type": "code",
   "execution_count": 12,
   "metadata": {},
   "outputs": [
    {
     "name": "stdout",
     "output_type": "stream",
     "text": [
      "length of dataset in characters:  4576325\n"
     ]
    }
   ],
   "source": [
    "print(\"length of dataset in characters: \", len(text))"
   ]
  },
  {
   "cell_type": "code",
   "execution_count": 13,
   "metadata": {},
   "outputs": [
    {
     "name": "stdout",
     "output_type": "stream",
     "text": [
      "American Standard Version\n",
      "\n",
      "This Bible is in the Public Domain.\n",
      "\n",
      "\n",
      "Genesis 1:1 In the beginning God created the heavens and the earth.\n",
      "Genesis 1:2 And the earth was waste and void; and darkness was upon the face of the deep: and the Spirit of God moved upon the face of the waters.\n",
      "Genesis 1:3 And God said, Let there be light: and there was light.\n",
      "Genesis 1:4 And God saw the light, that it was good: and God divided the light from the darkness.\n",
      "Genesis 1:5 And God called the light Day, and the darkness he called Night. And there was evening and there was morning, one day.\n",
      "Genesis 1:6 And God said, Let there be a firmament in the midst of the waters, and let it divide the waters from the waters.\n",
      "Genesis 1:7 And God made the firmament, and divided the waters which were under the firmament from the waters which were above the firmament: and it was so.\n",
      "Genesis 1:8 And God called the firmament Heaven. And there was evening and there was morning, a second day.\n",
      "Genesis 1:9 And God said, Let the w\n"
     ]
    }
   ],
   "source": [
    "print(text[:1000])"
   ]
  },
  {
   "cell_type": "code",
   "execution_count": 14,
   "metadata": {},
   "outputs": [
    {
     "name": "stdout",
     "output_type": "stream",
     "text": [
      "\n",
      " !\"'(),-./0123456789:;<=>?ABCDEFGHIJKLMNOPQRSTUVWYZ[]abcdefghijklmnopqrstuvwxyz{}\n",
      "82\n"
     ]
    }
   ],
   "source": [
    "chars = sorted(list(set(text)))\n",
    "vocab_size = len(chars)\n",
    "print(''.join(chars))\n",
    "print(vocab_size)"
   ]
  },
  {
   "cell_type": "code",
   "execution_count": 16,
   "metadata": {},
   "outputs": [
    {
     "name": "stdout",
     "output_type": "stream",
     "text": [
      "[61, 62, 1, 73, 61, 58, 71, 58]\n",
      "Hi there\n"
     ]
    }
   ],
   "source": [
    "stoi = {ch:i for i,ch in enumerate(chars)}\n",
    "itos = {i:ch for i,ch in enumerate(chars)}\n",
    "encode = lambda s: [stoi[c] for c in s] \n",
    "decode = lambda l: ''.join([itos[i] for i in l])\n",
    "\n",
    "print(encode(\"hi there\"))\n",
    "print(decode(encode(\"Hi there\")))"
   ]
  },
  {
   "cell_type": "code",
   "execution_count": 17,
   "metadata": {},
   "outputs": [
    {
     "name": "stdout",
     "output_type": "stream",
     "text": [
      "torch.Size([4576325]) torch.int64\n",
      "tensor([27, 66, 58, 71, 62, 56, 54, 67,  1, 45, 73, 54, 67, 57, 54, 71, 57,  1,\n",
      "        48, 58, 71, 72, 62, 68, 67,  0,  0, 46, 61, 62, 72,  1, 28, 62, 55, 65,\n",
      "        58,  1, 62, 72,  1, 62, 67,  1, 73, 61, 58,  1, 42, 74, 55, 65, 62, 56,\n",
      "         1, 30, 68, 66, 54, 62, 67,  9,  0,  0,  0, 33, 58, 67, 58, 72, 62, 72,\n",
      "         1, 12, 21, 12,  1, 35, 67,  1, 73, 61, 58,  1, 55, 58, 60, 62, 67, 67,\n",
      "        62, 67, 60,  1, 33, 68, 57,  1, 56, 71, 58, 54, 73, 58, 57,  1, 73, 61,\n",
      "        58,  1, 61, 58, 54, 75, 58, 67, 72,  1, 54, 67, 57,  1, 73, 61, 58,  1,\n",
      "        58, 54, 71, 73, 61,  9,  0, 33, 58, 67, 58, 72, 62, 72,  1, 12, 21, 13,\n",
      "         1, 27, 67, 57,  1, 73, 61, 58,  1, 58, 54, 71, 73, 61,  1, 76, 54, 72,\n",
      "         1, 76, 54, 72, 73, 58,  1, 54, 67, 57,  1, 75, 68, 62, 57, 22,  1, 54,\n",
      "        67, 57,  1, 57, 54, 71, 64, 67, 58, 72, 72,  1, 76, 54, 72,  1, 74, 69,\n",
      "        68, 67,  1, 73, 61, 58,  1, 59, 54, 56, 58,  1, 68, 59,  1, 73, 61, 58,\n",
      "         1, 57, 58, 58, 69, 21,  1, 54, 67, 57,  1, 73, 61, 58,  1, 45, 69, 62,\n",
      "        71, 62, 73,  1, 68, 59,  1, 33, 68, 57,  1, 66, 68, 75, 58, 57,  1, 74,\n",
      "        69, 68, 67,  1, 73, 61, 58,  1, 59, 54, 56, 58,  1, 68, 59,  1, 73, 61,\n",
      "        58,  1, 76, 54, 73, 58, 71, 72,  9,  0, 33, 58, 67, 58, 72, 62, 72,  1,\n",
      "        12, 21, 14,  1, 27, 67, 57,  1, 33, 68, 57,  1, 72, 54, 62, 57,  7,  1,\n",
      "        38, 58, 73,  1, 73, 61, 58, 71, 58,  1, 55, 58,  1, 65, 62, 60, 61, 73,\n",
      "        21,  1, 54, 67, 57,  1, 73, 61, 58, 71, 58,  1, 76, 54, 72,  1, 65, 62,\n",
      "        60, 61, 73,  9,  0, 33, 58, 67, 58, 72, 62, 72,  1, 12, 21, 15,  1, 27,\n",
      "        67, 57,  1, 33, 68, 57,  1, 72, 54, 76,  1, 73, 61, 58,  1, 65, 62, 60,\n",
      "        61, 73,  7,  1, 73, 61, 54, 73,  1, 62, 73,  1, 76, 54, 72,  1, 60, 68,\n",
      "        68, 57, 21,  1, 54, 67, 57,  1, 33, 68, 57,  1, 57, 62, 75, 62, 57, 58,\n",
      "        57,  1, 73, 61, 58,  1, 65, 62, 60, 61, 73,  1, 59, 71, 68, 66,  1, 73,\n",
      "        61, 58,  1, 57, 54, 71, 64, 67, 58, 72, 72,  9,  0, 33, 58, 67, 58, 72,\n",
      "        62, 72,  1, 12, 21, 16,  1, 27, 67, 57,  1, 33, 68, 57,  1, 56, 54, 65,\n",
      "        65, 58, 57,  1, 73, 61, 58,  1, 65, 62, 60, 61, 73,  1, 30, 54, 78,  7,\n",
      "         1, 54, 67, 57,  1, 73, 61, 58,  1, 57, 54, 71, 64, 67, 58, 72, 72,  1,\n",
      "        61, 58,  1, 56, 54, 65, 65, 58, 57,  1, 40, 62, 60, 61, 73,  9,  1, 27,\n",
      "        67, 57,  1, 73, 61, 58, 71, 58,  1, 76, 54, 72,  1, 58, 75, 58, 67, 62,\n",
      "        67, 60,  1, 54, 67, 57,  1, 73, 61, 58, 71, 58,  1, 76, 54, 72,  1, 66,\n",
      "        68, 71, 67, 62, 67, 60,  7,  1, 68, 67, 58,  1, 57, 54, 78,  9,  0, 33,\n",
      "        58, 67, 58, 72, 62, 72,  1, 12, 21, 17,  1, 27, 67, 57,  1, 33, 68, 57,\n",
      "         1, 72, 54, 62, 57,  7,  1, 38, 58, 73,  1, 73, 61, 58, 71, 58,  1, 55,\n",
      "        58,  1, 54,  1, 59, 62, 71, 66, 54, 66, 58, 67, 73,  1, 62, 67,  1, 73,\n",
      "        61, 58,  1, 66, 62, 57, 72, 73,  1, 68, 59,  1, 73, 61, 58,  1, 76, 54,\n",
      "        73, 58, 71, 72,  7,  1, 54, 67, 57,  1, 65, 58, 73,  1, 62, 73,  1, 57,\n",
      "        62, 75, 62, 57, 58,  1, 73, 61, 58,  1, 76, 54, 73, 58, 71, 72,  1, 59,\n",
      "        71, 68, 66,  1, 73, 61, 58,  1, 76, 54, 73, 58, 71, 72,  9,  0, 33, 58,\n",
      "        67, 58, 72, 62, 72,  1, 12, 21, 18,  1, 27, 67, 57,  1, 33, 68, 57,  1,\n",
      "        66, 54, 57, 58,  1, 73, 61, 58,  1, 59, 62, 71, 66, 54, 66, 58, 67, 73,\n",
      "         7,  1, 54, 67, 57,  1, 57, 62, 75, 62, 57, 58, 57,  1, 73, 61, 58,  1,\n",
      "        76, 54, 73, 58, 71, 72,  1, 76, 61, 62, 56, 61,  1, 76, 58, 71, 58,  1,\n",
      "        74, 67, 57, 58, 71,  1, 73, 61, 58,  1, 59, 62, 71, 66, 54, 66, 58, 67,\n",
      "        73,  1, 59, 71, 68, 66,  1, 73, 61, 58,  1, 76, 54, 73, 58, 71, 72,  1,\n",
      "        76, 61, 62, 56, 61,  1, 76, 58, 71, 58,  1, 54, 55, 68, 75, 58,  1, 73,\n",
      "        61, 58,  1, 59, 62, 71, 66, 54, 66, 58, 67, 73, 21,  1, 54, 67, 57,  1,\n",
      "        62, 73,  1, 76, 54, 72,  1, 72, 68,  9,  0, 33, 58, 67, 58, 72, 62, 72,\n",
      "         1, 12, 21, 19,  1, 27, 67, 57,  1, 33, 68, 57,  1, 56, 54, 65, 65, 58,\n",
      "        57,  1, 73, 61, 58,  1, 59, 62, 71, 66, 54, 66, 58, 67, 73,  1, 34, 58,\n",
      "        54, 75, 58, 67,  9,  1, 27, 67, 57,  1, 73, 61, 58, 71, 58,  1, 76, 54,\n",
      "        72,  1, 58, 75, 58, 67, 62, 67, 60,  1, 54, 67, 57,  1, 73, 61, 58, 71,\n",
      "        58,  1, 76, 54, 72,  1, 66, 68, 71, 67, 62, 67, 60,  7,  1, 54,  1, 72,\n",
      "        58, 56, 68, 67, 57,  1, 57, 54, 78,  9,  0, 33, 58, 67, 58, 72, 62, 72,\n",
      "         1, 12, 21, 20,  1, 27, 67, 57,  1, 33, 68, 57,  1, 72, 54, 62, 57,  7,\n",
      "         1, 38, 58, 73,  1, 73, 61, 58,  1, 76])\n"
     ]
    }
   ],
   "source": [
    "import torch\n",
    "data = torch.tensor(encode(text), dtype=torch.long)\n",
    "print(data.shape, data.dtype)\n",
    "print(data[:1000])\n"
   ]
  },
  {
   "cell_type": "code",
   "execution_count": 18,
   "metadata": {},
   "outputs": [],
   "source": [
    "n = int(0.9*len(data))\n",
    "train_data = data[:n]\n",
    "val_data = data[n:]"
   ]
  },
  {
   "cell_type": "code",
   "execution_count": 19,
   "metadata": {},
   "outputs": [
    {
     "data": {
      "text/plain": [
       "tensor([27, 66, 58, 71, 62, 56, 54, 67,  1])"
      ]
     },
     "execution_count": 19,
     "metadata": {},
     "output_type": "execute_result"
    }
   ],
   "source": [
    "block_size = 8\n",
    "train_data[:block_size+1]"
   ]
  },
  {
   "cell_type": "code",
   "execution_count": 20,
   "metadata": {},
   "outputs": [
    {
     "name": "stdout",
     "output_type": "stream",
     "text": [
      "when input is tensor([27]) the target is: 66\n",
      "when input is tensor([27, 66]) the target is: 58\n",
      "when input is tensor([27, 66, 58]) the target is: 71\n",
      "when input is tensor([27, 66, 58, 71]) the target is: 62\n",
      "when input is tensor([27, 66, 58, 71, 62]) the target is: 56\n",
      "when input is tensor([27, 66, 58, 71, 62, 56]) the target is: 54\n",
      "when input is tensor([27, 66, 58, 71, 62, 56, 54]) the target is: 67\n",
      "when input is tensor([27, 66, 58, 71, 62, 56, 54, 67]) the target is: 1\n"
     ]
    }
   ],
   "source": [
    "x = train_data[:block_size]\n",
    "y = train_data[1:block_size+1]\n",
    "for t in range(block_size):\n",
    "    context = x[:t+1]\n",
    "    target = y[t]\n",
    "    print(f\"when input is {context} the target is: {target}\")"
   ]
  },
  {
   "cell_type": "code",
   "execution_count": 21,
   "metadata": {},
   "outputs": [
    {
     "name": "stdout",
     "output_type": "stream",
     "text": [
      "inputs:\n",
      "torch.Size([4, 8])\n",
      "tensor([[71,  7,  1, 37, 62, 72, 61, 62],\n",
      "        [54, 65, 65,  1, 65, 62, 75, 62],\n",
      "        [ 1, 73, 61, 58, 62, 71,  1, 61],\n",
      "        [74, 71, 67, 58, 71,  7,  1, 73]])\n",
      "targets:\n",
      "torch.Size([4, 8])\n",
      "tensor([[ 7,  1, 37, 62, 72, 61, 62, 68],\n",
      "        [65, 65,  1, 65, 62, 75, 62, 67],\n",
      "        [73, 61, 58, 62, 71,  1, 61, 54],\n",
      "        [71, 67, 58, 71,  7,  1, 73, 61]])\n",
      "------\n",
      "when input is [71] the target is: 7\n",
      "when input is [71, 7] the target is: 1\n",
      "when input is [71, 7, 1] the target is: 37\n",
      "when input is [71, 7, 1, 37] the target is: 62\n",
      "when input is [71, 7, 1, 37, 62] the target is: 72\n",
      "when input is [71, 7, 1, 37, 62, 72] the target is: 61\n",
      "when input is [71, 7, 1, 37, 62, 72, 61] the target is: 62\n",
      "when input is [71, 7, 1, 37, 62, 72, 61, 62] the target is: 68\n",
      "when input is [54] the target is: 65\n",
      "when input is [54, 65] the target is: 65\n",
      "when input is [54, 65, 65] the target is: 1\n",
      "when input is [54, 65, 65, 1] the target is: 65\n",
      "when input is [54, 65, 65, 1, 65] the target is: 62\n",
      "when input is [54, 65, 65, 1, 65, 62] the target is: 75\n",
      "when input is [54, 65, 65, 1, 65, 62, 75] the target is: 62\n",
      "when input is [54, 65, 65, 1, 65, 62, 75, 62] the target is: 67\n",
      "when input is [1] the target is: 73\n",
      "when input is [1, 73] the target is: 61\n",
      "when input is [1, 73, 61] the target is: 58\n",
      "when input is [1, 73, 61, 58] the target is: 62\n",
      "when input is [1, 73, 61, 58, 62] the target is: 71\n",
      "when input is [1, 73, 61, 58, 62, 71] the target is: 1\n",
      "when input is [1, 73, 61, 58, 62, 71, 1] the target is: 61\n",
      "when input is [1, 73, 61, 58, 62, 71, 1, 61] the target is: 54\n",
      "when input is [74] the target is: 71\n",
      "when input is [74, 71] the target is: 67\n",
      "when input is [74, 71, 67] the target is: 58\n",
      "when input is [74, 71, 67, 58] the target is: 71\n",
      "when input is [74, 71, 67, 58, 71] the target is: 7\n",
      "when input is [74, 71, 67, 58, 71, 7] the target is: 1\n",
      "when input is [74, 71, 67, 58, 71, 7, 1] the target is: 73\n",
      "when input is [74, 71, 67, 58, 71, 7, 1, 73] the target is: 61\n"
     ]
    }
   ],
   "source": [
    "torch.manual_seed(1337)\n",
    "batch_size = 4\n",
    "block_size = 8\n",
    "\n",
    "def get_batch(split):\n",
    "    data =train_data if split == 'train' else val_data\n",
    "    ix = torch.randint(len(data) - block_size, (batch_size,))\n",
    "    x = torch.stack([data[i:i+block_size] for i in ix])\n",
    "    y = torch.stack([data[i+1:i+block_size+1] for i in ix])\n",
    "    return x,y\n",
    "\n",
    "xb, yb = get_batch('train')\n",
    "print('inputs:')\n",
    "print(xb.shape)\n",
    "print(xb)\n",
    "print('targets:')\n",
    "print(yb.shape)\n",
    "print(yb)\n",
    "\n",
    "\n",
    "print('------')\n",
    "\n",
    "\n",
    "for b in range(batch_size):\n",
    "    for t in range(block_size):\n",
    "        context = xb[b, :t+1]\n",
    "        target = yb[b,t]\n",
    "        print(f\"when input is {context.tolist()} the target is: {target}\")\n"
   ]
  },
  {
   "cell_type": "code",
   "execution_count": 29,
   "metadata": {},
   "outputs": [
    {
     "name": "stdout",
     "output_type": "stream",
     "text": [
      "torch.Size([32, 82])\n",
      "tensor(4.8339, grad_fn=<NllLossBackward0>)\n",
      "\n",
      "iB0{iGk4'(04W-8iZ-Vb[{aaQC/Ob0Bq:H:LiqETCqkiewJ<zsY\n",
      "SCp'{=iCTap81k);3\n",
      "5><k]:Hn,6tCCPUt1\n",
      "snw>91R{.sgm\n"
     ]
    }
   ],
   "source": [
    "import torch \n",
    "import torch.nn as nn\n",
    "from torch.nn import functional as F\n",
    "torch.manual_seed(1337)\n",
    "\n",
    "class BigramLanguageModel(nn.Module):\n",
    "    def __init__(self, vocab_size):\n",
    "        super().__init__()\n",
    "        self.token_embedding_table = nn.Embedding(vocab_size, vocab_size)\n",
    "\n",
    "    def forward(self, idx, targets=None):\n",
    "        logits = self.token_embedding_table(idx)\n",
    "\n",
    "        if targets is None:\n",
    "            loss = None\n",
    "        else:\n",
    "            B,T,C = logits.shape\n",
    "            logits = logits.view(B*T, C)\n",
    "            targets = targets.view(B*T)\n",
    "            loss = F.cross_entropy(logits, targets)\n",
    "        return logits, loss\n",
    "    \n",
    "    def generate(self, idx, max_new_tokens):\n",
    "        for _ in range(max_new_tokens):\n",
    "            logits, loss = self(idx)\n",
    "            logits = logits[:, -1, :]\n",
    "            probs = F.softmax(logits, dim=-1)\n",
    "            idx_next = torch.multinomial(probs, num_samples=1)\n",
    "            idx = torch.cat((idx, idx_next), dim=1)\n",
    "        return idx\n",
    "m = BigramLanguageModel(vocab_size)\n",
    "logits, loss = m(xb,yb)\n",
    "out = m(xb,yb)\n",
    "print(logits.shape)\n",
    "print(loss)\n",
    "print(decode(m.generate(torch.zeros((1,1), dtype=torch.long), max_new_tokens=100)[0].tolist()))"
   ]
  },
  {
   "cell_type": "code",
   "execution_count": 30,
   "metadata": {},
   "outputs": [
    {
     "name": "stderr",
     "output_type": "stream",
     "text": [
      "c:\\Users\\corne\\AppData\\Local\\Programs\\Python\\Python312\\Lib\\site-packages\\tqdm\\auto.py:21: TqdmWarning: IProgress not found. Please update jupyter and ipywidgets. See https://ipywidgets.readthedocs.io/en/stable/user_install.html\n",
      "  from .autonotebook import tqdm as notebook_tqdm\n"
     ]
    }
   ],
   "source": [
    "optimizer = torch.optim.AdamW(m.parameters(), lr=1e-3)"
   ]
  },
  {
   "cell_type": "code",
   "execution_count": 40,
   "metadata": {},
   "outputs": [
    {
     "name": "stdout",
     "output_type": "stream",
     "text": [
      "2.317469835281372\n"
     ]
    }
   ],
   "source": [
    "batch_size = 32\n",
    "for steps in range(10000):\n",
    "    xb, yb = get_batch('train')\n",
    "    logits, loss = m(xb,yb)\n",
    "    optimizer.zero_grad(set_to_none=True)\n",
    "    loss.backward()\n",
    "    optimizer.step()\n",
    "\n",
    "print(loss.item())"
   ]
  },
  {
   "cell_type": "code",
   "execution_count": 41,
   "metadata": {},
   "outputs": [
    {
     "name": "stdout",
     "output_type": "stream",
     "text": [
      "\n",
      "Psovathe to wsm, he cafrnghind bayot wevid men th Jodes t fin gatago d ge Th whe se cl al vert thoms he thine mis I os witoys.\n",
      "Nur t, s wa be chucofigoves, intig aros ar.\n",
      "Norempo w tthahe helethothe Jahe, wothap?\n",
      "Is bodellld icin othousthemy uruthand tthedroveis Maundnd se m, Goviousonerovit-golthe \n"
     ]
    }
   ],
   "source": [
    "print(decode(m.generate(torch.zeros((1,1), dtype=torch.long), max_new_tokens=300)[0].tolist()))"
   ]
  },
  {
   "cell_type": "code",
   "execution_count": 26,
   "metadata": {},
   "outputs": [
    {
     "data": {
      "text/plain": [
       "torch.Size([4, 8, 2])"
      ]
     },
     "execution_count": 26,
     "metadata": {},
     "output_type": "execute_result"
    }
   ],
   "source": [
    "torch.manual_seed(1337)\n",
    "B,T,C = 4,8,2\n",
    "x = torch.randn(B,T,C)\n",
    "x.shape"
   ]
  },
  {
   "cell_type": "code",
   "execution_count": 24,
   "metadata": {},
   "outputs": [],
   "source": [
    "xbow = torch.zeros((B,T,C))\n",
    "for b in range(B):\n",
    "    for t in range(T):\n",
    "        xprev = x[b, :t+1]  \n",
    "        xbow[b,t] = torch.mean(xprev, 0)"
   ]
  },
  {
   "cell_type": "code",
   "execution_count": 32,
   "metadata": {},
   "outputs": [
    {
     "data": {
      "text/plain": [
       "False"
      ]
     },
     "execution_count": 32,
     "metadata": {},
     "output_type": "execute_result"
    }
   ],
   "source": [
    "wei = torch.tril(torch.ones(T,T))\n",
    "wei = wei / wei.sum(1, keepdim=True)\n",
    "xbow2 = wei @ x\n",
    "torch.allclose(xbow, xbow2)"
   ]
  },
  {
   "cell_type": "code",
   "execution_count": 71,
   "metadata": {},
   "outputs": [
    {
     "data": {
      "text/plain": [
       "torch.Size([4, 8, 16])"
      ]
     },
     "execution_count": 71,
     "metadata": {},
     "output_type": "execute_result"
    }
   ],
   "source": [
    "import torch.nn as nn\n",
    "from torch.nn import functional as F\n",
    "torch.manual_seed(1337) \n",
    "B,T,C = 4,8,32\n",
    "x = torch.randn(B,T,C)\n",
    "\n",
    "head_size = 16\n",
    "key = nn.Linear(C, head_size, bias=False)\n",
    "query = nn.Linear(C, head_size, bias=False)\n",
    "value = nn.Linear(C, head_size, bias=False)\n",
    "k = key(x) \n",
    "q = query(x)\n",
    "\n",
    "wei = q @ k.transpose(-2, -1) * (head_size ** -0.5)\n",
    "\n",
    "tril = torch.tril(torch.ones(T,T))  \n",
    "#wei = torch.zeros((T,T))\n",
    "wei = wei.masked_fill(tril == 0, float('-inf'))\n",
    "wei = F.softmax(wei, dim=-1)\n",
    "\n",
    "\n",
    "v = value(x)\n",
    "out = wei @ v\n",
    "\n",
    "out.shape"
   ]
  },
  {
   "cell_type": "code",
   "execution_count": 70,
   "metadata": {},
   "outputs": [
    {
     "data": {
      "text/plain": [
       "tensor([[1.0000, 0.0000, 0.0000, 0.0000, 0.0000, 0.0000, 0.0000, 0.0000],\n",
       "        [0.1574, 0.8426, 0.0000, 0.0000, 0.0000, 0.0000, 0.0000, 0.0000],\n",
       "        [0.2088, 0.1646, 0.6266, 0.0000, 0.0000, 0.0000, 0.0000, 0.0000],\n",
       "        [0.5792, 0.1187, 0.1889, 0.1131, 0.0000, 0.0000, 0.0000, 0.0000],\n",
       "        [0.0294, 0.1052, 0.0469, 0.0276, 0.7909, 0.0000, 0.0000, 0.0000],\n",
       "        [0.0176, 0.2689, 0.0215, 0.0089, 0.6812, 0.0019, 0.0000, 0.0000],\n",
       "        [0.1691, 0.4066, 0.0438, 0.0416, 0.1048, 0.2012, 0.0329, 0.0000],\n",
       "        [0.0210, 0.0843, 0.0555, 0.2297, 0.0573, 0.0709, 0.2423, 0.2391]],\n",
       "       grad_fn=<SelectBackward0>)"
      ]
     },
     "execution_count": 70,
     "metadata": {},
     "output_type": "execute_result"
    }
   ],
   "source": [
    "wei[0]"
   ]
  },
  {
   "cell_type": "code",
   "execution_count": 14,
   "metadata": {},
   "outputs": [
    {
     "name": "stdout",
     "output_type": "stream",
     "text": [
      "a=\n",
      "tensor([[1.0000, 0.0000, 0.0000],\n",
      "        [0.5000, 0.5000, 0.0000],\n",
      "        [0.3333, 0.3333, 0.3333]])\n",
      "--\n",
      "b=\n",
      "tensor([[2., 7.],\n",
      "        [6., 4.],\n",
      "        [6., 5.]])\n",
      "--\n",
      "c=\n",
      "tensor([[2.0000, 7.0000],\n",
      "        [4.0000, 5.5000],\n",
      "        [4.6667, 5.3333]])\n"
     ]
    }
   ],
   "source": [
    "torch.manual_seed(42)\n",
    "a= torch.tril(torch.ones(3,3))\n",
    "a = a / torch.sum(a, 1, keepdim=True)\n",
    "b = torch.randint(0,10,(3,2)).float()\n",
    "c = a @ b\n",
    "print('a=')\n",
    "print(a)\n",
    "print('--')\n",
    "print('b=')\n",
    "print(b)\n",
    "print('--')\n",
    "print('c=')\n",
    "print(c)"
   ]
  }
 ],
 "metadata": {
  "kernelspec": {
   "display_name": "Python 3",
   "language": "python",
   "name": "python3"
  },
  "language_info": {
   "codemirror_mode": {
    "name": "ipython",
    "version": 3
   },
   "file_extension": ".py",
   "mimetype": "text/x-python",
   "name": "python",
   "nbconvert_exporter": "python",
   "pygments_lexer": "ipython3",
   "version": "3.11.7"
  }
 },
 "nbformat": 4,
 "nbformat_minor": 2
}
